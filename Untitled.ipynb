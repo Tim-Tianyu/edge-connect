{
 "cells": [
  {
   "cell_type": "code",
   "execution_count": 14,
   "metadata": {
    "scrolled": true
   },
   "outputs": [],
   "source": [
    "import csv\n",
    "test = 0\n",
    "train = 0\n",
    "evaluation = 0\n",
    "# https://drive.google.com/drive/folders/0B7EVK8r0v71pWEZsZE9oNnFzTm8\n",
    "with open('list_eval_partition.csv') as csvfile:\n",
    "    reader = csv.DictReader(csvfile)\n",
    "    for row in reader:\n",
    "        if row['partition'] == '0':\n",
    "            train += 1\n",
    "        elif row['partition'] == '1':\n",
    "            evaluation += 1\n",
    "        else:\n",
    "            test+=1\n",
    "    "
   ]
  },
  {
   "cell_type": "code",
   "execution_count": 16,
   "metadata": {},
   "outputs": [
    {
     "name": "stdout",
     "output_type": "stream",
     "text": [
      "train: 162770\n",
      "evaluation: 19962\n",
      "test: 19867\n"
     ]
    }
   ],
   "source": [
    "print(\"train: \" + str(train))\n",
    "print(\"evaluation: \" + str(evaluation))\n",
    "print(\"test: \" + str(test))"
   ]
  },
  {
   "cell_type": "code",
   "execution_count": null,
   "metadata": {},
   "outputs": [],
   "source": [
    "test"
   ]
  },
  {
   "cell_type": "code",
   "execution_count": 18,
   "metadata": {},
   "outputs": [],
   "source": [
    "import shutil"
   ]
  },
  {
   "cell_type": "code",
   "execution_count": null,
   "metadata": {},
   "outputs": [],
   "source": []
  }
 ],
 "metadata": {
  "kernelspec": {
   "display_name": "Python 3",
   "language": "python",
   "name": "python3"
  },
  "language_info": {
   "codemirror_mode": {
    "name": "ipython",
    "version": 3
   },
   "file_extension": ".py",
   "mimetype": "text/x-python",
   "name": "python",
   "nbconvert_exporter": "python",
   "pygments_lexer": "ipython3",
   "version": "3.6.8"
  }
 },
 "nbformat": 4,
 "nbformat_minor": 2
}
